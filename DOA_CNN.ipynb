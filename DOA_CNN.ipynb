{
  "cells": [
    {
      "cell_type": "code",
      "execution_count": null,
      "metadata": {
        "id": "3f8c6e2d",
        "scrolled": true
      },
      "outputs": [],
      "source": [
        "from scipy.io import loadmat\n",
        "import pandas as pd\n",
        "import numpy as np\n",
        "import matplotlib.pyplot as plt\n",
        "import scipy.linalg as LA\n",
        "import time\n",
        "import scipy.signal as ss\n",
        "from sklearn import preprocessing\n",
        "import tensorflow as tf\n",
        "import math"
      ],
      "id": "3f8c6e2d"
    },
    {
      "cell_type": "code",
      "execution_count": null,
      "metadata": {
        "id": "PDUlrHdNqw5G"
      },
      "outputs": [],
      "source": [
        "from google.colab import drive"
      ],
      "id": "PDUlrHdNqw5G"
    },
    {
      "cell_type": "code",
      "execution_count": null,
      "metadata": {
        "colab": {
          "base_uri": "https://localhost:8080/"
        },
        "id": "zcO0AiVJq4IT",
        "outputId": "558dac0d-43cb-452b-d765-72a5116cdf66"
      },
      "outputs": [
        {
          "output_type": "stream",
          "name": "stdout",
          "text": [
            "Drive already mounted at /content/drive; to attempt to forcibly remount, call drive.mount(\"/content/drive\", force_remount=True).\n"
          ]
        }
      ],
      "source": [
        "drive.mount('/content/drive')"
      ],
      "id": "zcO0AiVJq4IT"
    },
    {
      "cell_type": "code",
      "execution_count": null,
      "metadata": {
        "id": "c5a3a5ba"
      },
      "outputs": [],
      "source": [
        "R = loadmat('/content/drive/My Drive/Sem_2/data_32k.mat')\n",
        "spec1= loadmat('/content/drive/My Drive/Sem_2/label_32k.mat')\n",
        "test1= loadmat('/content/drive/My Drive/Sem_2/test_27&9.mat')\n",
        "test2= loadmat('/content/drive/My Drive/Sem_2/test_41&1.mat')\n",
        "\n",
        "#data"
      ],
      "id": "c5a3a5ba"
    },
    {
      "cell_type": "code",
      "source": [
        "R"
      ],
      "metadata": {
        "colab": {
          "base_uri": "https://localhost:8080/"
        },
        "id": "DL3QiwZqsZw4",
        "outputId": "52fc0b0a-887a-4f0a-e6a5-79da0be7b092"
      },
      "id": "DL3QiwZqsZw4",
      "execution_count": null,
      "outputs": [
        {
          "output_type": "execute_result",
          "data": {
            "text/plain": [
              "{'__header__': b'MATLAB 5.0 MAT-file, Platform: GLNXA64, Created on: Sat Apr 29 08:37:52 2023',\n",
              " '__version__': '1.0',\n",
              " '__globals__': [],\n",
              " 'cov_data': array([[array([[[ 1.41625902e-08,  0.00000000e+00,  0.00000000e+00],\n",
              "                 [ 7.71512116e-09, -1.18349988e-08, -9.93093383e-01],\n",
              "                 [-5.67527989e-09, -1.28625968e-08, -1.98632778e+00],\n",
              "                 [-1.37745920e-08, -2.24862103e-09, -2.97977587e+00],\n",
              "                 [-9.30851309e-09,  1.02175917e-08,  2.30967100e+00],\n",
              "                 [ 3.44728206e-09,  1.32127005e-08,  1.31557917e+00]],\n",
              " \n",
              "                [[ 7.71512116e-09,  1.18349988e-08,  9.93093383e-01],\n",
              "                 [ 1.41281664e-08,  0.00000000e+00,  0.00000000e+00],\n",
              "                 [ 7.69641227e-09, -1.18081487e-08, -9.93165033e-01],\n",
              "                 [-5.66465171e-09, -1.28334496e-08, -1.98647337e+00],\n",
              "                 [-1.37463792e-08, -2.24087657e-09, -2.97999829e+00],\n",
              "                 [-9.28737206e-09,  1.02002341e-08,  2.30938550e+00]],\n",
              " \n",
              "                [[-5.67527989e-09,  1.28625968e-08,  1.98632778e+00],\n",
              "                 [ 7.69641227e-09,  1.18081487e-08,  9.93165033e-01],\n",
              "                 [ 1.40972612e-08,  0.00000000e+00,  0.00000000e+00],\n",
              "                 [ 7.67966762e-09, -1.17843620e-08, -9.93238935e-01],\n",
              "                 [-5.65561096e-09, -1.28077912e-08, -1.98662266e+00],\n",
              "                 [-1.37221563e-08, -2.23395668e-09, -2.98020922e+00]],\n",
              " \n",
              "                [[-1.37745920e-08,  2.24862103e-09,  2.97977587e+00],\n",
              "                 [-5.66465171e-09,  1.28334496e-08,  1.98647337e+00],\n",
              "                 [ 7.67966762e-09,  1.17843620e-08,  9.93238935e-01],\n",
              "                 [ 1.40700971e-08,  0.00000000e+00,  0.00000000e+00],\n",
              "                 [ 7.66506814e-09, -1.17638620e-08, -9.93312923e-01],\n",
              "                 [-5.64804762e-09, -1.27860193e-08, -1.98675686e+00]],\n",
              " \n",
              "                [[-9.30851309e-09, -1.02175917e-08, -2.30967100e+00],\n",
              "                 [-1.37463792e-08,  2.24087657e-09,  2.97999829e+00],\n",
              "                 [-5.65561096e-09,  1.28077912e-08,  1.98662266e+00],\n",
              "                 [ 7.66506814e-09,  1.17638620e-08,  9.93312923e-01],\n",
              "                 [ 1.40470407e-08,  0.00000000e+00,  0.00000000e+00],\n",
              "                 [ 7.65300003e-09, -1.17468859e-08, -9.93373095e-01]],\n",
              " \n",
              "                [[ 3.44728206e-09, -1.32127005e-08, -1.31557917e+00],\n",
              "                 [-9.28737206e-09, -1.02002341e-08, -2.30938550e+00],\n",
              "                 [-1.37221563e-08,  2.23395668e-09,  2.98020922e+00],\n",
              "                 [-5.64804762e-09,  1.27860193e-08,  1.98675686e+00],\n",
              "                 [ 7.65300003e-09,  1.17468859e-08,  9.93373095e-01],\n",
              "                 [ 1.40285452e-08,  0.00000000e+00,  0.00000000e+00]]])],\n",
              "        [array([[[ 1.35366148e-09,  0.00000000e+00,  0.00000000e+00],\n",
              "                 [-1.20993878e-09,  6.03738985e-10,  2.67875891e+00],\n",
              "                 [ 8.12102142e-10, -1.07906887e-09, -9.25636303e-01],\n",
              "                 [-2.44542127e-10,  1.32614332e-09,  1.75314883e+00],\n",
              "                 [-3.72567518e-10, -1.29369773e-09, -1.85119548e+00],\n",
              "                 [ 9.09206621e-10,  9.89491070e-10,  8.27656946e-01]],\n",
              " \n",
              "                [[-1.20993878e-09, -6.03738985e-10, -2.67875891e+00],\n",
              "                 [ 1.35102911e-09,  0.00000000e+00,  0.00000000e+00],\n",
              "                 [-1.20765601e-09,  6.02546519e-10,  2.67879431e+00],\n",
              "                 [ 8.10566937e-10, -1.07694133e-09, -9.25597198e-01],\n",
              "                 [-2.44222212e-10,  1.32360981e-09,  1.75325643e+00],\n",
              "                 [-3.71689297e-10, -1.29131064e-09, -1.85105905e+00]],\n",
              " \n",
              "                [[ 8.12102142e-10,  1.07906887e-09,  9.25636303e-01],\n",
              "                 [-1.20765601e-09, -6.02546519e-10, -2.67879431e+00],\n",
              "                 [ 1.34850915e-09,  0.00000000e+00,  0.00000000e+00],\n",
              "                 [-1.20536002e-09,  6.01395113e-10,  2.67879820e+00],\n",
              "                 [ 8.09142769e-10, -1.07488785e-09, -9.25525107e-01],\n",
              "                 [-2.43905237e-10,  1.32114121e-09,  1.75335782e+00]],\n",
              " \n",
              "                [[-2.44542127e-10, -1.32614332e-09, -1.75314883e+00],\n",
              "                 [ 8.10566937e-10,  1.07694133e-09,  9.25597198e-01],\n",
              "                 [-1.20536002e-09, -6.01395113e-10, -2.67879820e+00],\n",
              "                 [ 1.34589345e-09,  0.00000000e+00,  0.00000000e+00],\n",
              "                 [-1.20312374e-09,  6.00177512e-10,  2.67886598e+00],\n",
              "                 [ 8.07724828e-10, -1.07278669e-09, -9.25427681e-01]],\n",
              " \n",
              "                [[-3.72567518e-10,  1.29369773e-09,  1.85119548e+00],\n",
              "                 [-2.44222212e-10, -1.32360981e-09, -1.75325643e+00],\n",
              "                 [ 8.09142769e-10,  1.07488785e-09,  9.25525107e-01],\n",
              "                 [-1.20312374e-09, -6.00177512e-10, -2.67886598e+00],\n",
              "                 [ 1.34341779e-09,  0.00000000e+00,  0.00000000e+00],\n",
              "                 [-1.20093793e-09,  5.99041579e-10,  2.67889634e+00]],\n",
              " \n",
              "                [[ 9.09206621e-10, -9.89491070e-10, -8.27656946e-01],\n",
              "                 [-3.71689297e-10,  1.29131064e-09,  1.85105905e+00],\n",
              "                 [-2.43905237e-10, -1.32114121e-09, -1.75335782e+00],\n",
              "                 [ 8.07724828e-10,  1.07278669e-09,  9.25427681e-01],\n",
              "                 [-1.20093793e-09, -5.99041579e-10, -2.67889634e+00],\n",
              "                 [ 1.34096845e-09,  0.00000000e+00,  0.00000000e+00]]])],\n",
              "        [array([[[ 1.38593433e-08,  0.00000000e+00,  0.00000000e+00],\n",
              "                 [ 1.38577356e-08, -2.01626768e-10, -1.45487364e-02],\n",
              "                 [ 1.38532230e-08, -4.03132993e-10, -2.90920934e-02],\n",
              "                 [ 1.38457827e-08, -6.04747409e-10, -4.36496296e-02],\n",
              "                 [ 1.38354658e-08, -8.06014907e-10, -5.81913851e-02],\n",
              "                 [ 1.38221370e-08, -1.00725714e-09, -7.27441644e-02]],\n",
              " \n",
              "                [[ 1.38577356e-08,  2.01626768e-10,  1.45487364e-02],\n",
              "                 [ 1.38590666e-08,  0.00000000e+00,  0.00000000e+00],\n",
              "                 [ 1.38574912e-08, -2.01548703e-10, -1.45433608e-02],\n",
              "                 [ 1.38529900e-08, -4.03248271e-10, -2.91008969e-02],\n",
              "                 [ 1.38456074e-08, -6.04642837e-10, -4.36426432e-02],\n",
              "                 [ 1.38352130e-08, -8.06056347e-10, -5.81954308e-02]],\n",
              " \n",
              "                [[ 1.38532230e-08,  4.03132993e-10,  2.90920934e-02],\n",
              "                 [ 1.38574912e-08,  2.01548703e-10,  1.45433608e-02],\n",
              "                 [ 1.38588524e-08,  0.00000000e+00,  0.00000000e+00],\n",
              "                 [ 1.38572900e-08, -2.01742174e-10, -1.45575305e-02],\n",
              "                 [ 1.38528424e-08, -4.03221322e-10, -2.90992630e-02],\n",
              "                 [ 1.38453835e-08, -6.04763608e-10, -4.36520544e-02]],\n",
              " \n",
              "                [[ 1.38457827e-08,  6.04747409e-10,  4.36496296e-02],\n",
              "                 [ 1.38529900e-08,  4.03248271e-10,  2.91008969e-02],\n",
              "                 [ 1.38572900e-08,  2.01742174e-10,  1.45575305e-02],\n",
              "                 [ 1.38586698e-08,  0.00000000e+00,  0.00000000e+00],\n",
              "                 [ 1.38571607e-08, -2.01521196e-10, -1.45417229e-02],\n",
              "                 [ 1.38526415e-08, -4.03149762e-10, -2.90945233e-02]],\n",
              " \n",
              "                [[ 1.38354658e-08,  8.06014907e-10,  5.81913851e-02],\n",
              "                 [ 1.38456074e-08,  6.04642837e-10,  4.36426432e-02],\n",
              "                 [ 1.38528424e-08,  4.03221322e-10,  2.90992630e-02],\n",
              "                 [ 1.38571607e-08,  2.01521196e-10,  1.45417229e-02],\n",
              "                 [ 1.38585875e-08,  0.00000000e+00,  0.00000000e+00],\n",
              "                 [ 1.38570059e-08, -2.01672720e-10, -1.45528178e-02]],\n",
              " \n",
              "                [[ 1.38221370e-08,  1.00725714e-09,  7.27441644e-02],\n",
              "                 [ 1.38352130e-08,  8.06056347e-10,  5.81954308e-02],\n",
              "                 [ 1.38453835e-08,  6.04763608e-10,  4.36520544e-02],\n",
              "                 [ 1.38526415e-08,  4.03149762e-10,  2.90945233e-02],\n",
              "                 [ 1.38570059e-08,  2.01672720e-10,  1.45528178e-02],\n",
              "                 [ 1.38583645e-08,  0.00000000e+00,  0.00000000e+00]]])],\n",
              "        ...,\n",
              "        [array([[[ 9.69338737e-10,  0.00000000e+00,  0.00000000e+00],\n",
              "                 [-8.23335902e-10,  5.10370243e-10,  2.58668292e+00],\n",
              "                 [ 4.30476352e-10, -8.66759105e-10, -1.10983190e+00],\n",
              "                 [ 9.06213283e-11,  9.62315515e-10,  1.47690314e+00],\n",
              "                 [-5.83084183e-10, -7.69048455e-10, -2.21951791e+00],\n",
              "                 [ 8.99156811e-10,  3.45920441e-10,  3.67261896e-01]],\n",
              " \n",
              "                [[-8.23335902e-10, -5.10370243e-10, -2.58668292e+00],\n",
              "                 [ 9.68320734e-10,  0.00000000e+00,  0.00000000e+00],\n",
              "                 [-8.22470913e-10,  5.09853280e-10,  2.58666604e+00],\n",
              "                 [ 4.30060696e-10, -8.65841531e-10, -1.10979479e+00],\n",
              "                 [ 9.04795997e-11,  9.61324323e-10,  1.47695304e+00],\n",
              "                 [-5.82476513e-10, -7.68317507e-10, -2.21947372e+00]],\n",
              " \n",
              "                [[ 4.30476352e-10,  8.66759105e-10,  1.10983190e+00],\n",
              "                 [-8.22470913e-10, -5.09853280e-10, -2.58666604e+00],\n",
              "                 [ 9.67323954e-10,  0.00000000e+00,  0.00000000e+00],\n",
              "                 [-8.21652139e-10,  5.09286171e-10,  2.58671839e+00],\n",
              "                 [ 4.29675736e-10, -8.64928163e-10, -1.10973107e+00],\n",
              "                 [ 9.03364055e-11,  9.60396959e-10,  1.47701074e+00]],\n",
              " \n",
              "                [[ 9.06213283e-11, -9.62315515e-10, -1.47690314e+00],\n",
              "                 [ 4.30060696e-10,  8.65841531e-10,  1.10979479e+00],\n",
              "                 [-8.21652139e-10, -5.09286171e-10, -2.58671839e+00],\n",
              "                 [ 9.66333480e-10,  0.00000000e+00,  0.00000000e+00],\n",
              "                 [-8.20820558e-10,  5.08757670e-10,  2.58672989e+00],\n",
              "                 [ 4.29267971e-10, -8.64092590e-10, -1.10972427e+00]],\n",
              " \n",
              "                [[-5.83084183e-10,  7.69048455e-10,  2.21951791e+00],\n",
              "                 [ 9.04795997e-11, -9.61324323e-10, -1.47695304e+00],\n",
              "                 [ 4.29675736e-10,  8.64928163e-10,  1.10973107e+00],\n",
              "                 [-8.20820558e-10, -5.08757670e-10, -2.58672989e+00],\n",
              "                 [ 9.65350891e-10,  0.00000000e+00,  0.00000000e+00],\n",
              "                 [-8.20031332e-10,  5.08272340e-10,  2.58672650e+00]],\n",
              " \n",
              "                [[ 8.99156811e-10, -3.45920441e-10, -3.67261896e-01],\n",
              "                 [-5.82476513e-10,  7.68317507e-10,  2.21947372e+00],\n",
              "                 [ 9.03364055e-11, -9.60396959e-10, -1.47701074e+00],\n",
              "                 [ 4.29267971e-10,  8.64092590e-10,  1.10972427e+00],\n",
              "                 [-8.20031332e-10, -5.08272340e-10, -2.58672650e+00],\n",
              "                 [ 9.64484075e-10,  0.00000000e+00,  0.00000000e+00]]])],\n",
              "        [array([[[ 1.88584647e-08,  0.00000000e+00,  0.00000000e+00],\n",
              "                 [ 1.66093995e-08,  8.91679121e-09,  4.92692857e-01],\n",
              "                 [ 1.04108197e-08,  1.57038555e-08,  9.85373487e-01],\n",
              "                 [ 1.74383884e-09,  1.87468326e-08,  1.47804279e+00],\n",
              "                 [-7.32367619e-09,  1.73265340e-08,  1.97070501e+00],\n",
              "                 [-1.46321205e-08,  1.17893239e-08,  2.46337645e+00]],\n",
              " \n",
              "                [[ 1.66093995e-08, -8.91679121e-09, -4.92692857e-01],\n",
              "                 [ 1.88484922e-08,  0.00000000e+00,  0.00000000e+00],\n",
              "                 [ 1.66012136e-08,  8.91208114e-09,  4.92678106e-01],\n",
              "                 [ 1.04063584e-08,  1.56960620e-08,  9.85342270e-01],\n",
              "                 [ 1.74391239e-09,  1.87382576e-08,  1.47799669e+00],\n",
              "                 [-7.31979787e-09,  1.73196507e-08,  1.97065755e+00]],\n",
              " \n",
              "                [[ 1.04108197e-08, -1.57038555e-08, -9.85373487e-01],\n",
              "                 [ 1.66012136e-08, -8.91208114e-09, -4.92678106e-01],\n",
              "                 [ 1.88396005e-08,  0.00000000e+00,  0.00000000e+00],\n",
              "                 [ 1.65939577e-08,  8.90783211e-09,  4.92661554e-01],\n",
              "                 [ 1.04024557e-08,  1.56891002e-08,  9.85310702e-01],\n",
              "                 [ 1.74386021e-09,  1.87309632e-08,  1.47796352e+00]],\n",
              " \n",
              "                [[ 1.74383884e-09, -1.87468326e-08, -1.47804279e+00],\n",
              "                 [ 1.04063584e-08, -1.56960620e-08, -9.85342270e-01],\n",
              "                 [ 1.65939577e-08, -8.90783211e-09, -4.92661554e-01],\n",
              "                 [ 1.88316902e-08,  0.00000000e+00,  0.00000000e+00],\n",
              "                 [ 1.65875203e-08,  8.90405456e-09,  4.92646488e-01],\n",
              "                 [ 1.03989818e-08,  1.56832883e-08,  9.85293890e-01]],\n",
              " \n",
              "                [[-7.32367619e-09, -1.73265340e-08, -1.97070501e+00],\n",
              "                 [ 1.74391239e-09, -1.87382576e-08, -1.47799669e+00],\n",
              "                 [ 1.04024557e-08, -1.56891002e-08, -9.85310702e-01],\n",
              "                 [ 1.65875203e-08, -8.90405456e-09, -4.92646488e-01],\n",
              "                 [ 1.88246962e-08,  0.00000000e+00,  0.00000000e+00],\n",
              "                 [ 1.65819941e-08,  8.90104866e-09,  4.92644642e-01]],\n",
              " \n",
              "                [[-1.46321205e-08, -1.17893239e-08, -2.46337645e+00],\n",
              "                 [-7.31979787e-09, -1.73196507e-08, -1.97065755e+00],\n",
              "                 [ 1.74386021e-09, -1.87309632e-08, -1.47796352e+00],\n",
              "                 [ 1.03989818e-08, -1.56832883e-08, -9.85293890e-01],\n",
              "                 [ 1.65819941e-08, -8.90104866e-09, -4.92644642e-01],\n",
              "                 [ 1.88191126e-08,  0.00000000e+00,  0.00000000e+00]]])],\n",
              "        [array([[[ 4.73962314e-08,  0.00000000e+00,  0.00000000e+00],\n",
              "                 [ 1.98703612e-08,  4.29925848e-08,  1.13785888e+00],\n",
              "                 [-3.02556555e-08,  3.55346206e-08,  2.27612674e+00],\n",
              "                 [-4.36468629e-08, -1.22943519e-08, -2.86702881e+00],\n",
              "                 [-6.61975733e-09, -4.29274636e-08, -1.72379909e+00],\n",
              "                 [ 3.43972433e-08, -2.23240311e-08, -5.75676417e-01]],\n",
              " \n",
              "                [[ 1.98703612e-08, -4.29925848e-08, -1.13785888e+00],\n",
              "                 [ 4.79275598e-08,  0.00000000e+00,  0.00000000e+00],\n",
              "                 [ 2.00965800e-08,  4.33938499e-08,  1.13708515e+00],\n",
              "                 [-3.04505748e-08,  3.58662675e-08,  2.27471139e+00],\n",
              "                 [-4.39530228e-08, -1.22878072e-08, -2.86898567e+00],\n",
              "                 [-6.75216486e-09, -4.31127224e-08, -1.72615084e+00]],\n",
              " \n",
              "                [[-3.02556555e-08, -3.55346206e-08, -2.27612674e+00],\n",
              "                 [ 2.00965800e-08, -4.33938499e-08, -1.13708515e+00],\n",
              "                 [ 4.83117060e-08,  0.00000000e+00,  0.00000000e+00],\n",
              "                 [ 2.02510422e-08,  4.36565755e-08,  1.13646691e+00],\n",
              "                 [-3.05517761e-08,  3.60676844e-08,  2.27358567e+00],\n",
              "                 [-4.40995026e-08, -1.22579579e-08, -2.87047538e+00]],\n",
              " \n",
              "                [[-4.36468629e-08,  1.22943519e-08,  2.86702881e+00],\n",
              "                 [-3.04505748e-08, -3.58662675e-08, -2.27471139e+00],\n",
              "                 [ 2.02510422e-08, -4.36565755e-08, -1.13646691e+00],\n",
              "                 [ 4.85357045e-08,  0.00000000e+00,  0.00000000e+00],\n",
              "                 [ 2.03330926e-08,  4.37764553e-08,  1.13596996e+00],\n",
              "                 [-3.05614125e-08,  3.61414914e-08,  2.27273311e+00]],\n",
              " \n",
              "                [[-6.61975733e-09,  4.29274636e-08,  1.72379909e+00],\n",
              "                 [-4.39530228e-08,  1.22878072e-08,  2.86898567e+00],\n",
              "                 [-3.05517761e-08, -3.60676844e-08, -2.27358567e+00],\n",
              "                 [ 2.03330926e-08, -4.37764553e-08, -1.13596996e+00],\n",
              "                 [ 4.86035638e-08,  0.00000000e+00,  0.00000000e+00],\n",
              "                 [ 2.03461439e-08,  4.37636721e-08,  1.13561312e+00]],\n",
              " \n",
              "                [[ 3.43972433e-08,  2.23240311e-08,  5.75676417e-01],\n",
              "                 [-6.75216486e-09,  4.31127224e-08,  1.72615084e+00],\n",
              "                 [-4.40995026e-08,  1.22579579e-08,  2.87047538e+00],\n",
              "                 [-3.05614125e-08, -3.61414914e-08, -2.27273311e+00],\n",
              "                 [ 2.03461439e-08, -4.37636721e-08, -1.13561312e+00],\n",
              "                 [ 4.85315164e-08,  0.00000000e+00,  0.00000000e+00]]])]],\n",
              "       dtype=object)}"
            ]
          },
          "metadata": {},
          "execution_count": 5
        }
      ]
    },
    {
      "cell_type": "code",
      "source": [
        "R1=R['cov_data']"
      ],
      "metadata": {
        "id": "3VhUHrr7tuBY"
      },
      "id": "3VhUHrr7tuBY",
      "execution_count": null,
      "outputs": []
    },
    {
      "cell_type": "code",
      "source": [
        "spec=spec1['label']"
      ],
      "metadata": {
        "id": "2dOs7-F_tzGZ"
      },
      "id": "2dOs7-F_tzGZ",
      "execution_count": null,
      "outputs": []
    },
    {
      "cell_type": "code",
      "execution_count": null,
      "metadata": {
        "id": "gO1ong0n_IlD",
        "colab": {
          "base_uri": "https://localhost:8080/"
        },
        "outputId": "e5562d1b-6222-4222-d8ea-9a82d7f64310"
      },
      "outputs": [
        {
          "output_type": "execute_result",
          "data": {
            "text/plain": [
              "((32000, 1), (32000, 1201))"
            ]
          },
          "metadata": {},
          "execution_count": 98
        }
      ],
      "source": [
        "#num_rows = len(spec1)\n",
        "#num_cols = len(spec1['label'])\n",
        "#print(f\"The 2D dictionary has {num_rows} rows and {num_cols} columns.\")\n",
        "\n",
        "#R=data['Cov'] #covariance matrix\n",
        "#spec1=data['Spectrum']\n",
        "# region=preprocessing.normalize(spec1)\n",
        "# region.shape\n",
        "#type(region)\n",
        "#region=preprocessing.normalize(spec1)\n",
        "#spec=np.transpose((spec1))\n",
        "\n",
        "R1.shape,spec.shape"
      ],
      "id": "gO1ong0n_IlD"
    },
    {
      "cell_type": "code",
      "execution_count": null,
      "metadata": {
        "id": "7d9f4399"
      },
      "outputs": [],
      "source": [
        "\n",
        "\n",
        "M=6\n",
        "speed=1500\n",
        "frequ=10000\n",
        "lamda = speed/frequ\n",
        "d=lamda/2\n",
        "N=1201 #output neurons\n",
        "thetaStart=-np.pi/3\n",
        "thetaFinal=np.pi/3\n",
        "\n",
        "Ja=32000\n",
        "#SNR=[10,8,6,4,2,0,-2,-4,-6,-8,-10,-12,-14,-16,-18,-20]\n",
        "Angles=np.linspace(thetaStart,thetaFinal,1201)*180/np.pi\n"
      ],
      "id": "7d9f4399"
    },
    {
      "cell_type": "code",
      "execution_count": null,
      "metadata": {
        "id": "A2ZbiOxbRzvI",
        "colab": {
          "base_uri": "https://localhost:8080/"
        },
        "outputId": "af2d14bb-529f-4175-d196-3c145cb475a9"
      },
      "outputs": [
        {
          "output_type": "execute_result",
          "data": {
            "text/plain": [
              "array([-60. , -59.9, -59.8, ...,  59.8,  59.9,  60. ])"
            ]
          },
          "metadata": {},
          "execution_count": 10
        }
      ],
      "source": [
        "Angles\n",
        "#plt.plot(Angles,spec1[11,:])"
      ],
      "id": "A2ZbiOxbRzvI"
    },
    {
      "cell_type": "code",
      "execution_count": null,
      "metadata": {
        "id": "b203ddbf",
        "colab": {
          "base_uri": "https://localhost:8080/"
        },
        "outputId": "dd71703c-7323-48c7-bb54-3c153ad40318"
      },
      "outputs": [
        {
          "output_type": "execute_result",
          "data": {
            "text/plain": [
              "(32000, 6, 6, 3)"
            ]
          },
          "metadata": {},
          "execution_count": 8
        }
      ],
      "source": [
        "samp=Ja\n",
        "Xu=np.zeros((samp,M,M,3))\n",
        "Xu.shape\n",
        "\n"
      ],
      "id": "b203ddbf"
    },
    {
      "cell_type": "code",
      "source": [],
      "metadata": {
        "id": "8KdNhheKVLpy"
      },
      "id": "8KdNhheKVLpy",
      "execution_count": null,
      "outputs": []
    },
    {
      "cell_type": "code",
      "execution_count": null,
      "metadata": {
        "id": "tf50Aa4zCMrA",
        "colab": {
          "base_uri": "https://localhost:8080/"
        },
        "outputId": "c0cb3445-5522-4270-a031-b0eedb2c6435"
      },
      "outputs": [
        {
          "output_type": "execute_result",
          "data": {
            "text/plain": [
              "(32000, 6, 6, 3)"
            ]
          },
          "metadata": {},
          "execution_count": 9
        }
      ],
      "source": [
        "for i in range (samp):\n",
        "    a=R1[i]\n",
        "    Xu[i,:,:,:]=a[0]  \n",
        "\n",
        "# Rx=np.transpose((Xu))\n",
        "Xu.shape#,Rx.shape\n"
      ],
      "id": "tf50Aa4zCMrA"
    },
    {
      "cell_type": "code",
      "execution_count": null,
      "metadata": {
        "id": "f4baabbb"
      },
      "outputs": [],
      "source": [
        "inputs = tf.keras.layers.Input((M,M,3))\n",
        "x = tf.keras.layers.Conv2D(256, (3, 3), strides= 1, activation= None,name=\"cnn_L1\", padding=\"same\")(inputs)\n",
        "x = tf.keras.layers.BatchNormalization( axis=-1, center=True, scale=True)(x) # this is included ,\n",
        "x = tf.keras.layers.ReLU(max_value=None, negative_slope=0, threshold=0)(x)\n",
        "x = tf.keras.layers.Conv2D(256, (2, 2), strides= 1, activation= None,name=\"cnn_2\", padding=\"same\")(x)\n",
        "x = tf.keras.layers.BatchNormalization(axis=-1, center=True, scale=True)(x) # this is included\n",
        "x = tf.keras.layers.ReLU(max_value=None, negative_slope=0, threshold=0)(x)\n",
        "x = tf.keras.layers.Conv2D(256, (2, 2), strides= 1, activation= None,name=\"cnn_3\", padding=\"same\")(x)\n",
        "x = tf.keras.layers.BatchNormalization(axis=-1, center=True, scale=True)(x) # this is included\n",
        "x = tf.keras.layers.ReLU(max_value=None, negative_slope=0, threshold=0)(x) \n",
        "x = tf.keras.layers.Conv2D(256, (2, 2), strides= 1, activation= None,name=\"cnn_4\", padding=\"same\")(x)\n",
        "x = tf.keras.layers.BatchNormalization(axis=-1, center=True, scale=True)(x) # this is included\n",
        "x = tf.keras.layers.ReLU(max_value=None, negative_slope=0, threshold=0)(x)\n",
        "x = tf.keras.layers.Flatten()(x)\n",
        "x = tf.keras.layers.Dense(4096, activation = None, name = 'FC1')(x)\n",
        "x = tf.keras.layers.ReLU(max_value=None, negative_slope=0, threshold=0)(x)\n",
        "x = tf.keras.layers.Dropout(0.3)(x)\n",
        "x = tf.keras.layers.Dense(2048, activation = None, name = 'FC2')(x) \n",
        "x = tf.keras.layers.ReLU(max_value=None, negative_slope=0, threshold=0)(x)\n",
        "x = tf.keras.layers.Dropout(0.3)(x)\n",
        "x = tf.keras.layers.Dense(2048, activation = None, name = 'FC3')(x)\n",
        "x = tf.keras.layers.ReLU(max_value=None, negative_slope=0, threshold=0)(x) \n",
        "x = tf.keras.layers.Dropout(0.2)(x)\n",
        "#x = tf.keras.layers.Dense(N, activation = None, name = 'FC4')(x)\n",
        "out = tf.keras.layers.Dense(N, activation = None, name = 'FC4')(x)\n",
        "#changed axis from 1 to -1 in normalization layer"
      ],
      "id": "f4baabbb"
    },
    {
      "cell_type": "code",
      "execution_count": null,
      "metadata": {
        "id": "HRpK0JqRscB9"
      },
      "outputs": [],
      "source": [
        "def step_decay(epoch):\n",
        "   initial_lrate = 0.005\n",
        "   drop = 0.3            # \"drop\" variable is between 0.5 and 0.1\n",
        "   epochs_drop = 10.0\n",
        "   lrate = initial_lrate * math.pow(drop,\n",
        "           math.floor((1+epoch)/epochs_drop))\n",
        "   return lrate"
      ],
      "id": "HRpK0JqRscB9"
    },
    {
      "cell_type": "code",
      "execution_count": null,
      "metadata": {
        "id": "2t21xfLWuABW"
      },
      "outputs": [],
      "source": [
        "from tensorflow.keras.callbacks import EarlyStopping\n",
        "callbacks = [EarlyStopping(monitor='val_loss', patience=3,verbose=1, mode='min')]\n",
        "my_lr_scheduler = tf.keras.callbacks.LearningRateScheduler(step_decay)"
      ],
      "id": "2t21xfLWuABW"
    },
    {
      "cell_type": "code",
      "execution_count": null,
      "metadata": {
        "id": "05b7da27",
        "colab": {
          "base_uri": "https://localhost:8080/"
        },
        "outputId": "a48e0b2b-3ec1-4e9b-ab98-4a893b4791a3"
      },
      "outputs": [
        {
          "output_type": "stream",
          "name": "stdout",
          "text": [
            "Model: \"model\"\n",
            "_________________________________________________________________\n",
            " Layer (type)                Output Shape              Param #   \n",
            "=================================================================\n",
            " input_1 (InputLayer)        [(None, 6, 6, 3)]         0         \n",
            "                                                                 \n",
            " cnn_L1 (Conv2D)             (None, 6, 6, 256)         7168      \n",
            "                                                                 \n",
            " batch_normalization (BatchN  (None, 6, 6, 256)        1024      \n",
            " ormalization)                                                   \n",
            "                                                                 \n",
            " re_lu (ReLU)                (None, 6, 6, 256)         0         \n",
            "                                                                 \n",
            " cnn_2 (Conv2D)              (None, 6, 6, 256)         262400    \n",
            "                                                                 \n",
            " batch_normalization_1 (Batc  (None, 6, 6, 256)        1024      \n",
            " hNormalization)                                                 \n",
            "                                                                 \n",
            " re_lu_1 (ReLU)              (None, 6, 6, 256)         0         \n",
            "                                                                 \n",
            " cnn_3 (Conv2D)              (None, 6, 6, 256)         262400    \n",
            "                                                                 \n",
            " batch_normalization_2 (Batc  (None, 6, 6, 256)        1024      \n",
            " hNormalization)                                                 \n",
            "                                                                 \n",
            " re_lu_2 (ReLU)              (None, 6, 6, 256)         0         \n",
            "                                                                 \n",
            " cnn_4 (Conv2D)              (None, 6, 6, 256)         262400    \n",
            "                                                                 \n",
            " batch_normalization_3 (Batc  (None, 6, 6, 256)        1024      \n",
            " hNormalization)                                                 \n",
            "                                                                 \n",
            " re_lu_3 (ReLU)              (None, 6, 6, 256)         0         \n",
            "                                                                 \n",
            " flatten (Flatten)           (None, 9216)              0         \n",
            "                                                                 \n",
            " FC1 (Dense)                 (None, 4096)              37752832  \n",
            "                                                                 \n",
            " re_lu_4 (ReLU)              (None, 4096)              0         \n",
            "                                                                 \n",
            " dropout (Dropout)           (None, 4096)              0         \n",
            "                                                                 \n",
            " FC2 (Dense)                 (None, 2048)              8390656   \n",
            "                                                                 \n",
            " re_lu_5 (ReLU)              (None, 2048)              0         \n",
            "                                                                 \n",
            " dropout_1 (Dropout)         (None, 2048)              0         \n",
            "                                                                 \n",
            " FC3 (Dense)                 (None, 2048)              4196352   \n",
            "                                                                 \n",
            " re_lu_6 (ReLU)              (None, 2048)              0         \n",
            "                                                                 \n",
            " dropout_2 (Dropout)         (None, 2048)              0         \n",
            "                                                                 \n",
            " FC4 (Dense)                 (None, 1201)              2460849   \n",
            "                                                                 \n",
            "=================================================================\n",
            "Total params: 53,599,153\n",
            "Trainable params: 53,597,105\n",
            "Non-trainable params: 2,048\n",
            "_________________________________________________________________\n"
          ]
        }
      ],
      "source": [
        "model = tf.keras.Model(inputs = [inputs], outputs = [out])\n",
        "optimizer=tf.keras.optimizers.Adam(learning_rate=0.005,beta_1=0.9,beta_2=0.999,epsilon=1e-08)\n",
        "model.compile(optimizer=optimizer, loss=tf.keras.losses.BinaryCrossentropy(from_logits=True),metrics=[tf.keras.metrics.BinaryCrossentropy()])\n",
        "model.summary()\n",
        "\n"
      ],
      "id": "05b7da27"
    },
    {
      "cell_type": "code",
      "source": [
        "np.random.RandomState(123).shuffle(Xu)\n",
        "np.random.RandomState(123).shuffle(spec)\n"
      ],
      "metadata": {
        "id": "cvVWzeOJs7TZ"
      },
      "id": "cvVWzeOJs7TZ",
      "execution_count": null,
      "outputs": []
    },
    {
      "cell_type": "code",
      "execution_count": null,
      "metadata": {
        "id": "f5449968",
        "colab": {
          "base_uri": "https://localhost:8080/"
        },
        "outputId": "0b19c010-30e7-4acf-ebb2-f6ea295a919b"
      },
      "outputs": [
        {
          "output_type": "stream",
          "name": "stdout",
          "text": [
            "Epoch 1/25\n",
            "450/450 [==============================] - 28s 32ms/step - loss: 0.0105 - binary_crossentropy: 0.0153 - val_loss: 0.0068 - val_binary_crossentropy: 0.0128 - lr: 0.0050\n",
            "Epoch 2/25\n",
            "450/450 [==============================] - 13s 30ms/step - loss: 0.0057 - binary_crossentropy: 0.0128 - val_loss: 0.0051 - val_binary_crossentropy: 0.0128 - lr: 0.0050\n",
            "Epoch 3/25\n",
            "450/450 [==============================] - 13s 28ms/step - loss: 0.0053 - binary_crossentropy: 0.0128 - val_loss: 0.0049 - val_binary_crossentropy: 0.0128 - lr: 0.0050\n",
            "Epoch 4/25\n",
            "450/450 [==============================] - 14s 30ms/step - loss: 0.0050 - binary_crossentropy: 0.0129 - val_loss: 0.0045 - val_binary_crossentropy: 0.0128 - lr: 0.0050\n",
            "Epoch 5/25\n",
            "450/450 [==============================] - 16s 35ms/step - loss: 0.0046 - binary_crossentropy: 0.0129 - val_loss: 0.0041 - val_binary_crossentropy: 0.0128 - lr: 0.0050\n",
            "Epoch 6/25\n",
            "450/450 [==============================] - 16s 35ms/step - loss: 0.0042 - binary_crossentropy: 0.0128 - val_loss: 0.0038 - val_binary_crossentropy: 0.0128 - lr: 0.0050\n",
            "Epoch 7/25\n",
            "450/450 [==============================] - 16s 35ms/step - loss: 0.0039 - binary_crossentropy: 0.0128 - val_loss: 0.0036 - val_binary_crossentropy: 0.0128 - lr: 0.0050\n",
            "Epoch 8/25\n",
            "450/450 [==============================] - 13s 29ms/step - loss: 0.0037 - binary_crossentropy: 0.0128 - val_loss: 0.0034 - val_binary_crossentropy: 0.0128 - lr: 0.0050\n",
            "Epoch 9/25\n",
            "450/450 [==============================] - 12s 26ms/step - loss: 0.0036 - binary_crossentropy: 0.0128 - val_loss: 0.0036 - val_binary_crossentropy: 0.0128 - lr: 0.0050\n",
            "Epoch 10/25\n",
            "450/450 [==============================] - 14s 31ms/step - loss: 0.0032 - binary_crossentropy: 0.0128 - val_loss: 0.0028 - val_binary_crossentropy: 0.0128 - lr: 0.0015\n",
            "Epoch 11/25\n",
            "450/450 [==============================] - 20s 44ms/step - loss: 0.0031 - binary_crossentropy: 0.0128 - val_loss: 0.0028 - val_binary_crossentropy: 0.0128 - lr: 0.0015\n",
            "Epoch 12/25\n",
            "450/450 [==============================] - 15s 34ms/step - loss: 0.0030 - binary_crossentropy: 0.0128 - val_loss: 0.0028 - val_binary_crossentropy: 0.0128 - lr: 0.0015\n",
            "Epoch 13/25\n",
            "450/450 [==============================] - 16s 35ms/step - loss: 0.0030 - binary_crossentropy: 0.0128 - val_loss: 0.0027 - val_binary_crossentropy: 0.0128 - lr: 0.0015\n",
            "Epoch 14/25\n",
            "450/450 [==============================] - 16s 35ms/step - loss: 0.0029 - binary_crossentropy: 0.0128 - val_loss: 0.0026 - val_binary_crossentropy: 0.0128 - lr: 0.0015\n",
            "Epoch 15/25\n",
            "450/450 [==============================] - 15s 34ms/step - loss: 0.0029 - binary_crossentropy: 0.0128 - val_loss: 0.0026 - val_binary_crossentropy: 0.0128 - lr: 0.0015\n",
            "Epoch 16/25\n",
            "450/450 [==============================] - 15s 34ms/step - loss: 0.0028 - binary_crossentropy: 0.0128 - val_loss: 0.0026 - val_binary_crossentropy: 0.0128 - lr: 0.0015\n",
            "Epoch 17/25\n",
            "450/450 [==============================] - 12s 26ms/step - loss: 0.0028 - binary_crossentropy: 0.0128 - val_loss: 0.0025 - val_binary_crossentropy: 0.0128 - lr: 0.0015\n",
            "Epoch 18/25\n",
            "450/450 [==============================] - 19s 41ms/step - loss: 0.0028 - binary_crossentropy: 0.0128 - val_loss: 0.0025 - val_binary_crossentropy: 0.0128 - lr: 0.0015\n",
            "Epoch 19/25\n",
            "450/450 [==============================] - 18s 40ms/step - loss: 0.0027 - binary_crossentropy: 0.0128 - val_loss: 0.0025 - val_binary_crossentropy: 0.0128 - lr: 0.0015\n",
            "Epoch 20/25\n",
            "450/450 [==============================] - 17s 38ms/step - loss: 0.0026 - binary_crossentropy: 0.0128 - val_loss: 0.0023 - val_binary_crossentropy: 0.0128 - lr: 4.5000e-04\n",
            "Epoch 21/25\n",
            "450/450 [==============================] - 11s 24ms/step - loss: 0.0025 - binary_crossentropy: 0.0127 - val_loss: 0.0022 - val_binary_crossentropy: 0.0128 - lr: 4.5000e-04\n",
            "Epoch 22/25\n",
            "450/450 [==============================] - 14s 32ms/step - loss: 0.0025 - binary_crossentropy: 0.0127 - val_loss: 0.0022 - val_binary_crossentropy: 0.0128 - lr: 4.5000e-04\n",
            "Epoch 23/25\n",
            "450/450 [==============================] - 15s 33ms/step - loss: 0.0025 - binary_crossentropy: 0.0127 - val_loss: 0.0022 - val_binary_crossentropy: 0.0128 - lr: 4.5000e-04\n",
            "Epoch 24/25\n",
            "450/450 [==============================] - 13s 30ms/step - loss: 0.0024 - binary_crossentropy: 0.0127 - val_loss: 0.0022 - val_binary_crossentropy: 0.0127 - lr: 4.5000e-04\n",
            "Epoch 25/25\n",
            "450/450 [==============================] - 16s 36ms/step - loss: 0.0024 - binary_crossentropy: 0.0127 - val_loss: 0.0021 - val_binary_crossentropy: 0.0125 - lr: 4.5000e-04\n"
          ]
        }
      ],
      "source": [
        "result = model.fit(Xu,spec, epochs =25, batch_size=64, shuffle = True,callbacks=[callbacks, my_lr_scheduler], verbose = 1,validation_split=0.1) #[callbacks, my_lr_scheduler]"
      ],
      "id": "f5449968"
    },
    {
      "cell_type": "code",
      "source": [
        "model.save('my_model.h5')"
      ],
      "metadata": {
        "id": "u0AM60EIbrPN"
      },
      "id": "u0AM60EIbrPN",
      "execution_count": null,
      "outputs": []
    },
    {
      "cell_type": "code",
      "source": [
        "import numpy as np\n",
        "from tensorflow import keras\n",
        "\n",
        "# Reshape the test data to the required input shape of the model\n",
        "test_data = R1\n",
        "\n",
        "# Normalize the test data\n",
        "#test_data = test_data\n",
        "\n",
        "# Load the trained model\n",
        "model = keras.models.load_model('my_model.h5')\n",
        "\n",
        "# Compile the model\n",
        "model.compile(loss='categorical_crossentropy', optimizer='adam', metrics=['accuracy'])\n",
        "\n",
        "\n"
      ],
      "metadata": {
        "id": "elAcsBthb62q"
      },
      "id": "elAcsBthb62q",
      "execution_count": null,
      "outputs": []
    },
    {
      "cell_type": "code",
      "source": [
        "data=test1['covariance']"
      ],
      "metadata": {
        "id": "sef0Y7FEoI46"
      },
      "id": "sef0Y7FEoI46",
      "execution_count": null,
      "outputs": []
    },
    {
      "cell_type": "code",
      "source": [
        "data = data.reshape(1, 6, 6, 3)\n",
        "#data = np.expand_dims(data, axis=-1)\n",
        "\n",
        "predictions = model.predict(data)\n",
        "max_index = np.argmax(predictions)\n",
        "Predicted_angle = max_index/10 - 60\n",
        "print(Predicted_angle)"
      ],
      "metadata": {
        "colab": {
          "base_uri": "https://localhost:8080/"
        },
        "id": "90uLfSygr4O5",
        "outputId": "43c6bd4a-7f2f-434d-d0a1-f91f60968273"
      },
      "id": "90uLfSygr4O5",
      "execution_count": null,
      "outputs": [
        {
          "output_type": "stream",
          "name": "stdout",
          "text": [
            "1/1 [==============================] - 0s 20ms/step\n",
            "28.0\n"
          ]
        }
      ]
    },
    {
      "cell_type": "code",
      "source": [
        "predictions"
      ],
      "metadata": {
        "colab": {
          "base_uri": "https://localhost:8080/"
        },
        "id": "lch2nCLKsP8Q",
        "outputId": "4fec2714-19e2-48d3-8818-3692f89b69a4"
      },
      "id": "lch2nCLKsP8Q",
      "execution_count": null,
      "outputs": [
        {
          "output_type": "execute_result",
          "data": {
            "text/plain": [
              "array([[-12.31096 , -12.328148, -11.933693, ...,  -9.345469,  -9.520515,\n",
              "        -12.975177]], dtype=float32)"
            ]
          },
          "metadata": {},
          "execution_count": 36
        }
      ]
    },
    {
      "cell_type": "code",
      "source": [
        "# Plot the data as a 2D graph\n",
        "plt.plot(Angles,predictions[0])\n",
        "plt.xlabel('Data Index')\n",
        "plt.ylabel('Value')\n",
        "plt.title('Predicted Azimuth Angle')\n",
        "plt.show()"
      ],
      "metadata": {
        "colab": {
          "base_uri": "https://localhost:8080/",
          "height": 472
        },
        "id": "5c6rzJUV0dml",
        "outputId": "2b877ba7-2e88-45dc-eb9c-273a74add3e4"
      },
      "id": "5c6rzJUV0dml",
      "execution_count": null,
      "outputs": [
        {
          "output_type": "display_data",
          "data": {
            "text/plain": [
              "<Figure size 640x480 with 1 Axes>"
            ],
            "image/png": "[encoded data removed]"
          },
          "metadata": {}
        }
      ]
    },
    {
      "cell_type": "code",
      "execution_count": null,
      "metadata": {
        "id": "b0cd3025",
        "colab": {
          "base_uri": "https://localhost:8080/",
          "height": 410
        },
        "outputId": "aae8592c-6d2c-4229-a8e4-c79c15b0eb7b"
      },
      "outputs": [
        {
          "output_type": "display_data",
          "data": {
            "text/plain": [
              "<Figure size 700x400 with 1 Axes>"
            ],
            "image/png": "[encoded data removed]"
          },
          "metadata": {}
        }
      ],
      "source": [
        "figsize=7,4\n",
        "figure,ax=plt.subplots(figsize=figsize)\n",
        "plt.plot(result.history['loss'],label='Training Loss')\n",
        "plt.plot(result.history['val_loss'],label='Validation Loss')\n",
        "plt.legend(loc='upper right')\n",
        "plt.xlabel('Epoch')\n",
        "plt.ylabel('loss')\n",
        "plt.title('Training and Validation Loss')\n",
        "plt.show()"
      ],
      "id": "b0cd3025"
    },
    {
      "cell_type": "code",
      "source": [],
      "metadata": {
        "id": "_250ohYoZ13W"
      },
      "id": "_250ohYoZ13W",
      "execution_count": null,
      "outputs": []
    },
    {
      "cell_type": "code",
      "source": [],
      "metadata": {
        "id": "v7QPq_WeZ2Nj"
      },
      "id": "v7QPq_WeZ2Nj",
      "execution_count": null,
      "outputs": []
    },
    {
      "cell_type": "code",
      "source": [
        "#model.save('/content/drive/My Drive')"
      ],
      "metadata": {
        "id": "jHbFc9uIvSDu"
      },
      "id": "jHbFc9uIvSDu",
      "execution_count": null,
      "outputs": []
    },
    {
      "cell_type": "code",
      "execution_count": null,
      "metadata": {
        "id": "in9WaQeC-B3c"
      },
      "outputs": [],
      "source": [
        "def array_steering_vector(array,DOA):\n",
        "    v = np.exp(-1j*2*np.pi*array*np.sin(np.deg2rad(DOA)))\n",
        "    return v"
      ],
      "id": "in9WaQeC-B3c"
    },
    {
      "cell_type": "code",
      "source": [
        "#NEW REXCTIFIED TESTING ONE\n",
        "DOA = np.array([0,15])\n",
        "L=len(DOA)\n",
        "SNR=-15\n",
        "T=200\n",
        "array = np.linspace(0,(M-1)/2,M)\n",
        "sigma_Noise = (10**(-SNR/20))/M\n",
        "steering=np.zeros((M,L)) + 1j*np.zeros((M,L))\n",
        "for i in range(L):\n",
        "  steering[:,i]=array_steering_vector(array,DOA[i])\n",
        "#np.random.seed(64)\n",
        "s1=np.multiply(np.transpose(np.matrix(steering[:,0])),np.random.randn(1,T))\n",
        "s2=np.multiply(np.transpose(np.matrix(steering[:,1])),np.random.randn(1,T))\n",
        "#s3=np.multiply(np.transpose(np.matrix(steering[:,2])),np.random.randn(1,T)) \n",
        "noise = np.matrix(np.zeros((M,T)) + 1j*np.zeros((M,T)))\n",
        "for iter in range(T):\n",
        "    noise[:,iter]=(sigma_Noise)*np.matrix((np.random.randn(M,1) + 1j*np.random.randn(M,1)))\n",
        "    \n",
        "Xu=s1+s2+noise\n",
        "Cov = (1/T)*Xu@Xu.conj().transpose() \n",
        "CovMattest=Cov/LA.norm(Cov)\n",
        "Xutest=np.zeros((M,M,3))\n",
        "Xutest[:,:,0]=np.real(CovMattest)\n",
        "Xutest[:,:,1]=np.imag(CovMattest)\n",
        "Xutest[:,:,2]=np.angle(CovMattest)\n",
        "Xutest=np.expand_dims(Xutest,axis=0)\n",
        "Xutest.shape\n",
        "pred = tf.math.sigmoid(model.predict(Xutest))\n",
        "predi=np.transpose(pred)\n",
        "DD=predi.flatten(order='C')\n",
        "DD=DD/max(DD)\n",
        "peaks= ss.find_peaks(DD,height=0.6,distance=1.0,prominence=0.5)\n",
        "a=peaks[0]\n",
        "location=Angles[a]\n",
        "f=peaks[1]\n",
        "dd=f['peak_heights']\n",
        "plt.plot(Angles,DD)\n",
        "plt.scatter(location,dd,color='red',marker='*')\n",
        "#ply.scatter(DOA,)\n",
        "plt.xlabel('Theta')\n",
        "plt.ylabel('Not Power Spectrum')\n",
        "plt.title('Direction of ARRIVAL')\n",
        "plt.show()"
      ],
      "metadata": {
        "id": "f4_fOkLvblxx"
      },
      "id": "f4_fOkLvblxx",
      "execution_count": null,
      "outputs": []
    },
    {
      "cell_type": "code",
      "source": [
        "location"
      ],
      "metadata": {
        "id": "IjDvJYd7iCID"
      },
      "id": "IjDvJYd7iCID",
      "execution_count": null,
      "outputs": []
    },
    {
      "cell_type": "code",
      "source": [
        "#Performance evaluation for ARMSE\n",
        "DOA = np.array([0,8])\n",
        "L=len(DOA)\n",
        "SNR=-12\n",
        "T=500\n",
        "simulations=1000\n",
        "array = np.linspace(0,(M-1)/2,M)\n",
        "sigma_Noise = (10**(-SNR/20))/M\n",
        "steering=np.zeros((M,L)) + 1j*np.zeros((M,L))\n",
        "for i in range(L):\n",
        "  steering[:,i]=array_steering_vector(array,DOA[i])\n",
        "#np.random.seed(64)\n",
        "\n",
        "error=np.matrix(np.zeros((simulations,L)))\n",
        "for jj in range(simulations):\n",
        "  s1=np.multiply(np.transpose(np.matrix(steering[:,0])),np.random.randn(1,T))\n",
        "  s2=np.multiply(np.transpose(np.matrix(steering[:,1])),np.random.randn(1,T))\n",
        "  #s3=np.multiply(np.transpose(np.matrix(steering[:,2])),np.random.randn(1,T)) \n",
        "  noise = np.matrix(np.zeros((M,T)) + 1j*np.zeros((M,T)))\n",
        "  for iter in range(T):\n",
        "     noise[:,iter]=(sigma_Noise)*np.matrix((np.random.randn(M,1) + 1j*np.random.randn(M,1)))\n",
        "  Xu=s1+s2+noise\n",
        "  Cov = (1/T)*Xu@Xu.conj().transpose() \n",
        "  CovMattest=Cov/LA.norm(Cov)\n",
        "  Xutest=np.zeros((M,M,3))\n",
        "  Xutest[:,:,0]=np.real(CovMattest)\n",
        "  Xutest[:,:,1]=np.imag(CovMattest)\n",
        "  Xutest[:,:,2]=np.angle(CovMattest)\n",
        "  Xutest=np.expand_dims(Xutest,axis=0)\n",
        "  Xutest.shape\n",
        "  pred = tf.math.sigmoid(model.predict(Xutest))\n",
        "  predi=np.transpose(pred)\n",
        "  DD=predi.flatten(order='C')\n",
        "  DD=DD/max(DD)\n",
        "  peak_indices, peak_dict= ss.find_peaks(DD,height=0.2,distance=1)\n",
        "  peak_heights = peak_dict['peak_heights']\n",
        "  df = pd.DataFrame(peak_indices, columns = {'locs'})\n",
        "  df['heights'] = peak_heights\n",
        "  final_df = df.sort_values(by=['heights'], ascending=False)\n",
        "  ll=final_df.iloc[[0,1],:]\n",
        "  location=sorted(Angles[ll.locs.to_numpy()])\n",
        "  error[jj,:]=(location-DOA)**2 \n",
        "  sum_error=np.sqrt((error.sum(axis=0))/simulations)\n",
        "  ARMSE=(sum_error.sum(axis=1))/L\n",
        "\n",
        "plt.plot(Angles,DD)\n",
        "# plt.scatter(location,peak_heights,color='red',marker='*')\n",
        "plt.xlabel('Theta')\n",
        "plt.ylabel('Not Power Spectrum')\n",
        "plt.title('Direction of ARRIVAL')\n",
        "plt.show()\n",
        "ARMSE,location"
      ],
      "metadata": {
        "id": "GzhKpOCifFQs"
      },
      "id": "GzhKpOCifFQs",
      "execution_count": null,
      "outputs": []
    },
    {
      "cell_type": "code",
      "source": [],
      "metadata": {
        "id": "C5pu-ZhVa8P8"
      },
      "id": "C5pu-ZhVa8P8",
      "execution_count": null,
      "outputs": []
    },
    {
      "cell_type": "code",
      "source": [
        "# #RESOLUTION PROBABILITY\n",
        "DOA = np.array([0,8])\n",
        "L=len(DOA)\n",
        "SNR=10\n",
        "T=500\n",
        "simulations=1000\n",
        "array = np.linspace(0,(M-1)/2,M)\n",
        "sigma_Noise = (10**(-SNR/20))/M\n",
        "steering=np.zeros((M,L)) + 1j*np.zeros((M,L))\n",
        "for i in range(L):\n",
        "  steering[:,i]=array_steering_vector(array,DOA[i])\n",
        "#np.random.seed(64)\n",
        "\n",
        "error=np.matrix(np.zeros((simulations,L)))\n",
        "for jj in range(simulations):\n",
        "  s1=np.multiply(np.transpose(np.matrix(steering[:,0])),np.random.randn(1,T))\n",
        "  s2=np.multiply(np.transpose(np.matrix(steering[:,1])),np.random.randn(1,T))\n",
        "  #s3=np.multiply(np.transpose(np.matrix(steering[:,2])),np.random.randn(1,T)) \n",
        "  noise = np.matrix(np.zeros((M,T)) + 1j*np.zeros((M,T)))\n",
        "  for iter in range(T):\n",
        "     noise[:,iter]=(sigma_Noise)*np.matrix((np.random.randn(M,1) + 1j*np.random.randn(M,1)))\n",
        "  Xu=s1+s2+noise\n",
        "  Cov = (1/T)*Xu@Xu.conj().transpose() \n",
        "  CovMattest=Cov/LA.norm(Cov)\n",
        "  Xutest=np.zeros((M,M,3))\n",
        "  Xutest[:,:,0]=np.real(CovMattest)\n",
        "  Xutest[:,:,1]=np.imag(CovMattest)\n",
        "  Xutest[:,:,2]=np.angle(CovMattest)\n",
        "  Xutest=np.expand_dims(Xutest,axis=0)\n",
        "  Xutest.shape\n",
        "  pred = tf.math.sigmoid(model.predict(Xutest))\n",
        "  predi=np.transpose(pred)\n",
        "  DD=predi.flatten(order='C')\n",
        "  DD=DD/max(DD)\n",
        "  peak_indices, peak_dict= ss.find_peaks(DD,height=0.2,distance=1)\n",
        "  peak_heights = peak_dict['peak_heights']\n",
        "  df = pd.DataFrame(peak_indices, columns = {'locs'})\n",
        "  df['heights'] = peak_heights\n",
        "  final_df = df.sort_values(by=['heights'], ascending=False)\n",
        "  ll=final_df.iloc[[0,1],:]\n",
        "  location=sorted(Angles[ll.locs.to_numpy()])\n",
        "  error[jj,:]=(location-DOA)**2 \n",
        "  Reso=np.sqrt(error)\n",
        "  l = len(Reso)\n",
        "  threshold = (DOA[0] + DOA[1])/2\n",
        "  cnt = 0\n",
        "\n",
        "  for i in range (0, l):\n",
        "    if (Reso[i,0] < threshold and Reso[i,1] < threshold):\n",
        "      cnt = cnt + 1\n",
        "\n",
        "  res_prob = cnt/simulations\n",
        "\n",
        "plt.plot(Angles,DD)\n",
        "# plt.scatter(location,peak_heights,color='red',marker='*')\n",
        "plt.xlabel('Theta')\n",
        "plt.ylabel('Not Power Spectrum')\n",
        "plt.title('Direction of ARRIVAL')\n",
        "plt.show()\n",
        "ARMSE,location, res_prob\n"
      ],
      "metadata": {
        "id": "dMPUbsZC_qIk"
      },
      "id": "dMPUbsZC_qIk",
      "execution_count": null,
      "outputs": []
    }
  ],
  "metadata": {
    "accelerator": "GPU",
    "colab": {
      "provenance": []
    },
    "kernelspec": {
      "display_name": "Python 3",
      "language": "python",
      "name": "python3"
    },
    "language_info": {
      "codemirror_mode": {
        "name": "ipython",
        "version": 3
      },
      "file_extension": ".py",
      "mimetype": "text/x-python",
      "name": "python",
      "nbconvert_exporter": "python",
      "pygments_lexer": "ipython3",
      "version": "3.8.8"
    }
  },
  "nbformat": 4,
  "nbformat_minor": 5
}